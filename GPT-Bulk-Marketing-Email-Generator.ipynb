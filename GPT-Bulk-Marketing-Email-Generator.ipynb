{
 "cells": [
  {
   "cell_type": "markdown",
   "id": "d4fa61a0",
   "metadata": {},
   "source": [
    "### This Notebook creates AI generated Emails to pitch your content marketing services to potential clients."
   ]
  },
  {
   "cell_type": "code",
   "execution_count": 62,
   "id": "c473418c",
   "metadata": {
    "scrolled": true
   },
   "outputs": [
    {
     "name": "stdout",
     "output_type": "stream",
     "text": [
      "Requirement already satisfied: openai in c:\\users\\aasim\\anaconda3\\lib\\site-packages (0.27.8)\n",
      "Requirement already satisfied: tqdm in c:\\users\\aasim\\anaconda3\\lib\\site-packages (from openai) (4.59.0)\n",
      "Requirement already satisfied: requests>=2.20 in c:\\users\\aasim\\anaconda3\\lib\\site-packages (from openai) (2.25.1)\n",
      "Requirement already satisfied: aiohttp in c:\\users\\aasim\\anaconda3\\lib\\site-packages (from openai) (3.8.5)\n",
      "Requirement already satisfied: idna<3,>=2.5 in c:\\users\\aasim\\anaconda3\\lib\\site-packages (from requests>=2.20->openai) (2.10)\n",
      "Requirement already satisfied: certifi>=2017.4.17 in c:\\users\\aasim\\anaconda3\\lib\\site-packages (from requests>=2.20->openai) (2020.12.5)\n",
      "Requirement already satisfied: chardet<5,>=3.0.2 in c:\\users\\aasim\\anaconda3\\lib\\site-packages (from requests>=2.20->openai) (4.0.0)\n",
      "Requirement already satisfied: urllib3<1.27,>=1.21.1 in c:\\users\\aasim\\anaconda3\\lib\\site-packages (from requests>=2.20->openai) (1.26.4)\n",
      "Requirement already satisfied: aiosignal>=1.1.2 in c:\\users\\aasim\\anaconda3\\lib\\site-packages (from aiohttp->openai) (1.3.1)\n",
      "Requirement already satisfied: yarl<2.0,>=1.0 in c:\\users\\aasim\\anaconda3\\lib\\site-packages (from aiohttp->openai) (1.9.2)\n",
      "Requirement already satisfied: frozenlist>=1.1.1 in c:\\users\\aasim\\anaconda3\\lib\\site-packages (from aiohttp->openai) (1.4.0)\n",
      "Requirement already satisfied: async-timeout<5.0,>=4.0.0a3 in c:\\users\\aasim\\anaconda3\\lib\\site-packages (from aiohttp->openai) (4.0.2)\n",
      "Requirement already satisfied: multidict<7.0,>=4.5 in c:\\users\\aasim\\anaconda3\\lib\\site-packages (from aiohttp->openai) (6.0.4)\n",
      "Requirement already satisfied: attrs>=17.3.0 in c:\\users\\aasim\\anaconda3\\lib\\site-packages (from aiohttp->openai) (20.3.0)\n",
      "Requirement already satisfied: charset-normalizer<4.0,>=2.0 in c:\\users\\aasim\\anaconda3\\lib\\site-packages (from aiohttp->openai) (3.2.0)\n",
      "Requirement already satisfied: python-docx in c:\\users\\aasim\\anaconda3\\lib\\site-packages (0.8.11)\n",
      "Requirement already satisfied: lxml>=2.3.2 in c:\\users\\aasim\\anaconda3\\lib\\site-packages (from python-docx) (4.6.3)\n"
     ]
    }
   ],
   "source": [
    "#Install OpenAi and python-docx library packages.\n",
    "!pip install openai\n",
    "!pip install python-docx\n"
   ]
  },
  {
   "cell_type": "code",
   "execution_count": 61,
   "id": "dbfa1236",
   "metadata": {
    "scrolled": true
   },
   "outputs": [
    {
     "ename": "SyntaxError",
     "evalue": "invalid syntax (<ipython-input-61-16c5b810bf5a>, line 6)",
     "output_type": "error",
     "traceback": [
      "\u001b[1;36m  File \u001b[1;32m\"<ipython-input-61-16c5b810bf5a>\"\u001b[1;36m, line \u001b[1;32m6\u001b[0m\n\u001b[1;33m    openai.api_key  = <YOUR_OPENAI_KEY>\u001b[0m\n\u001b[1;37m                      ^\u001b[0m\n\u001b[1;31mSyntaxError\u001b[0m\u001b[1;31m:\u001b[0m invalid syntax\n"
     ]
    }
   ],
   "source": [
    "#Imports\n",
    "import openai\n",
    "import csv\n",
    "from docx import Document\n",
    "#Add your openAI Key here. You can generate your key by signing up https://openai.com/\n",
    "openai.api_key  = <YOUR_OPENAI_KEY>"
   ]
  },
  {
   "cell_type": "markdown",
   "id": "ff822513",
   "metadata": {},
   "source": [
    "### Setup your Model Configurations"
   ]
  },
  {
   "cell_type": "code",
   "execution_count": 58,
   "id": "667a93d0",
   "metadata": {},
   "outputs": [],
   "source": [
    "#Get_Completion function setups your configuration for OpenAI model. \n",
    "#Here I am using gpt-3.5-turbo but you can also use model of your choice.\n",
    "def get_completion(prompt, model=\"gpt-3.5-turbo\",temperature=0):\n",
    "    messages = [{\"role\": \"user\", \"content\": prompt}]\n",
    "    response = openai.ChatCompletion.create(\n",
    "        model=model,\n",
    "        messages=messages,\n",
    "        temperature=temperature,\n",
    "        max_tokens = 1024 #You can set according to your needs.\n",
    "    )\n",
    "    return response.choices[0].message[\"content\"]"
   ]
  },
  {
   "cell_type": "markdown",
   "id": "2b6a91cd",
   "metadata": {},
   "source": [
    "### Load CSV files containing your potential clients information file. \n",
    "#### I am using only three fields, Name, Type, Info for each business but you can tweak upto your needs. \n",
    "### NB! Remember to tweak your prompt too. "
   ]
  },
  {
   "cell_type": "code",
   "execution_count": 55,
   "id": "c972fb3a",
   "metadata": {
    "scrolled": false
   },
   "outputs": [
    {
     "name": "stdout",
     "output_type": "stream",
     "text": [
      "name: Ali baba Solar Panels,type: Solar Panel Installations,info: Ali baba is solar panel installation service operating in Austin United States of America.\n",
      "name: CA Sports,type: Cricket equipments manufacturers,info: CA Sports is a Pakistani sports equipment manufacturing company headquartered in Sialkot, Punjab, focused on cricket clothing and equipment.\n",
      "name: Gree Electric Appliances,type: Airconditioning Appliance manufacturers,info: Gree Electric Appliances Inc. of Zhuhai is a Chinese home appliances manufacturer headquartered in Zhuhai, Guangdong province. It is the world's largest residential air-conditioner manufacturer. The company offers two types of air conditioners: household air conditioners and commercial air conditioners.\n"
     ]
    }
   ],
   "source": [
    "def load_business_data(csv_file):\n",
    "    business_list = []\n",
    "    with open(csv_file, newline='') as file:\n",
    "        reader = csv.DictReader(file)\n",
    "        for row in reader:\n",
    "            business_info = f\"\"\"name: {row['name']},type: {row['type']},info: {row['info']}\"\"\"\n",
    "            business_list.append(business_info)\n",
    "\n",
    "    return business_list\n",
    "\n",
    "csv_file_path = 'dummy_businesses.csv'\n",
    "business_list = load_business_data(csv_file_path)\n",
    "\n",
    "for business in business_list:\n",
    "    print(business)\n",
    "\n",
    "\n"
   ]
  },
  {
   "cell_type": "markdown",
   "id": "35e29227",
   "metadata": {},
   "source": [
    "### This prompt here generates an email based on given information. Feel free to tweak it according your needs"
   ]
  },
  {
   "cell_type": "code",
   "execution_count": 54,
   "id": "98a4f099",
   "metadata": {},
   "outputs": [
    {
     "name": "stdout",
     "output_type": "stream",
     "text": [
      "Dear Ali baba Solar Panels,\n",
      "\n",
      "I hope this email finds you well. My name is Wolfsbane, and I am reaching out to you on behalf of Wolf Marketing Services. We specialize in providing top-notch content creation services to businesses like yours. After reviewing your business information, I couldn't help but notice the immense potential for content marketing in the solar panel installation industry. Allow me to explain why content creation is crucial for marketing your products and how we can assist you in achieving your goals.\n",
      "\n",
      "Here are a few reasons why you need content to effectively market your solar panel installation services:\n",
      "\n",
      "1. Establishing Expertise: By creating informative and engaging content, you can position yourself as an industry expert. This will not only build trust among potential customers but also differentiate you from your competitors.\n",
      "\n",
      "2. Educating Your Audience: Solar panel installations involve technical aspects that may be unfamiliar to many individuals. Through well-crafted content, you can educate your audience about the benefits of solar energy, the installation process, and how it can save them money in the long run. This will help potential customers make informed decisions and increase their interest in your services.\n",
      "\n",
      "3. Increasing Online Visibility: Content creation plays a vital role in search engine optimization (SEO). By incorporating relevant keywords and optimizing your website with valuable content, you can improve your online visibility and attract organic traffic to your website. This will ultimately lead to more inquiries and potential customers.\n",
      "\n",
      "4. Engaging with Your Audience: Content marketing allows you to engage with your audience on various platforms, such as social media, blogs, and newsletters. By sharing valuable content regularly, you can foster a sense of community, answer questions, and address concerns. This will help you build strong relationships with your customers and encourage them to recommend your services to others.\n",
      "\n",
      "Now that we have established the importance of content marketing for your business, let me explain how Wolf Marketing Services can assist you:\n",
      "\n",
      "1. Tailored Content Creation: Our team of experienced writers will create high-quality content tailored to your specific needs. Whether it's blog articles, social media posts, or website copy, we will ensure that the content reflects your brand's voice and resonates with your target audience.\n",
      "\n",
      "2. SEO Optimization: We will conduct thorough keyword research and optimize your content to improve your website's search engine rankings. This will drive more organic traffic to your website and increase your chances of converting visitors into customers.\n",
      "\n",
      "3. Content Strategy: We will work closely with you to develop a comprehensive content strategy that aligns with your business goals. From ideation to execution, we will handle all aspects of content creation, allowing you to focus on what you do best – providing exceptional solar panel installation services.\n",
      "\n",
      "4. Consistency and Timeliness: We understand the importance of delivering content consistently and on time. Our team will ensure that your content is delivered promptly, allowing you to maintain a strong online presence and engage with your audience effectively.\n",
      "\n",
      "We are confident that our content creation services will help you showcase your expertise, educate your audience, and ultimately drive more business. If you are interested in discussing this further or have any questions, please feel free to reach out to us.\n",
      "\n",
      "Thank you for considering Wolf Marketing Services as your content creation partner. We look forward to the opportunity of working with you and helping your business thrive.\n",
      "\n",
      "Warm regards,\n",
      "\n",
      "Wolf Marketing Services\n",
      "Dear CA Sports,\n",
      "\n",
      "I hope this email finds you well. My name is Wolfsbane, and I am reaching out to you on behalf of Wolf Marketing Services. We specialize in providing top-notch content creation services to businesses like yours. After reviewing the nature of your business as cricket equipment manufacturers, we believe that there is a great opportunity for you to leverage the power of content marketing to promote your products effectively.\n",
      "\n",
      "Here are a few reasons why content creation is essential for marketing your cricket equipment:\n",
      "\n",
      "1. Increased Brand Awareness: By creating high-quality content, you can establish your brand as a trusted authority in the cricket equipment industry. This will help you gain visibility and attract a larger customer base.\n",
      "\n",
      "2. Engaging Your Target Audience: Content allows you to connect with your target audience on a deeper level. By providing valuable information, tips, and insights related to cricket equipment, you can engage your customers and build a loyal following.\n",
      "\n",
      "3. Showcasing Product Features: Content creation provides an excellent platform to showcase the unique features and benefits of your cricket equipment. Through engaging articles, videos, and social media posts, you can highlight the quality and innovation that sets your products apart from the competition.\n",
      "\n",
      "4. Search Engine Optimization (SEO): Creating SEO-friendly content can significantly improve your website's visibility on search engines. By optimizing your content with relevant keywords, you can increase organic traffic to your website and attract potential customers who are actively searching for cricket equipment.\n",
      "\n",
      "At Wolf Marketing Services, we have a team of experienced content creators who specialize in crafting compelling and informative content for businesses in the sports industry. We offer a range of content creation services, including blog posts, social media content, product descriptions, and more. Our team will work closely with you to understand your brand and target audience, ensuring that the content we create aligns perfectly with your marketing goals.\n",
      "\n",
      "We would love to discuss how we can help you enhance your marketing efforts through content creation. Please let us know a convenient time for a call or meeting, and we will be happy to provide you with a detailed proposal tailored to your specific needs.\n",
      "\n",
      "Thank you for considering Wolf Marketing Services. We look forward to the opportunity of working with you and helping you achieve your marketing objectives.\n",
      "\n",
      "Best regards,\n",
      "\n",
      "Wolfsbane\n",
      "Wolf Marketing Services\n",
      "Dear Gree Electric Appliances,\n",
      "\n",
      "I hope this email finds you well. My name is Wolfsbane, and I am reaching out to you on behalf of Wolf Marketing Services. We specialize in providing top-notch content creation services to businesses like yours. \n",
      "\n",
      "I recently came across the information about Gree Electric Appliances, and I was truly impressed by your achievements as the world's largest residential air-conditioner manufacturer. With such a remarkable position in the market, it is crucial for your business to have a strong online presence and effective marketing strategies. Content creation plays a vital role in achieving these goals, and I would like to explain why.\n",
      "\n",
      "Here are a few reasons why your business needs content to market your products:\n",
      "\n",
      "1. Engage and educate your target audience: High-quality content allows you to connect with your customers on a deeper level. By providing valuable information about your air conditioners, you can educate your audience about the benefits and features of your products, ultimately leading to increased brand loyalty.\n",
      "\n",
      "2. Enhance your online visibility: In today's digital age, having a strong online presence is essential for any business. By regularly creating and publishing relevant content, you can improve your search engine rankings, attract more organic traffic to your website, and ultimately increase your online visibility.\n",
      "\n",
      "3. Establish yourself as an industry leader: By consistently producing informative and insightful content, you can position yourself as an authority in the air conditioning industry. This will not only build trust with your customers but also attract potential customers who are looking for expert advice.\n",
      "\n",
      "4. Drive more conversions: Compelling content has the power to influence purchasing decisions. By creating persuasive product descriptions, customer testimonials, and informative blog posts, you can drive more conversions and increase your sales.\n",
      "\n",
      "At Wolf Marketing Services, we understand the importance of content creation in today's competitive market. Our team of experienced writers specializes in creating engaging and informative content tailored to your business needs. Whether you require product descriptions, blog posts, social media content, or website copy, we have the expertise to deliver exceptional results.\n",
      "\n",
      "By partnering with us, you can expect:\n",
      "\n",
      "- High-quality content that resonates with your target audience\n",
      "- Well-researched and informative articles that establish your authority in the industry\n",
      "- SEO-optimized content to improve your online visibility\n",
      "- Timely delivery and adherence to your brand guidelines\n",
      "\n",
      "We would love to discuss how our content creation services can benefit your business further. Please let us know a convenient time for a call or meeting, and we will be more than happy to provide you with a detailed proposal tailored to your specific requirements.\n",
      "\n",
      "Thank you for considering Wolf Marketing Services. We look forward to the opportunity of working with Gree Electric Appliances and helping you achieve your marketing goals.\n",
      "\n",
      "Best regards,\n",
      "\n",
      "Wolfsbane\n",
      "Wolf Marketing Services\n"
     ]
    }
   ],
   "source": [
    "emails = []\n",
    "for business in business_list:\n",
    "\n",
    "    prompt = f\"\"\"\n",
    "    You are a sales pitching AI assistant for a business who offers content creation services to businesses.\n",
    "    Your task is to extract the nature of business from name, type, info from given business information and create an email to pitch the content creation services to that business\n",
    "    Given the business details delimited by ```, \\\n",
    "    Generate an email to pitch why they need content to market their products in bullet points and then offer how you can help them with that.\n",
    "    Start the email with Dear \"business name\".\n",
    "    Write in a detailed, captivating and professional tone.\n",
    "    Your name is Wolfsbane.\n",
    "    The maximum words of email should be 450.\n",
    "    Sign the email as `Wolf Marketing Services`.\n",
    "    Business information: ```{business}```\n",
    "    \"\"\"\n",
    "    response = get_completion(prompt,temperature=0.3)\n",
    "    emails.append(response)\n",
    "    print(response)"
   ]
  },
  {
   "cell_type": "markdown",
   "id": "f25fe3a6",
   "metadata": {},
   "source": [
    "### Create Docs file to use it in future."
   ]
  },
  {
   "cell_type": "code",
   "execution_count": 59,
   "id": "ad7c5a4e",
   "metadata": {},
   "outputs": [
    {
     "name": "stdout",
     "output_type": "stream",
     "text": [
      "Collecting python-docx\n",
      "  Downloading python-docx-0.8.11.tar.gz (5.6 MB)\n",
      "Requirement already satisfied: lxml>=2.3.2 in c:\\users\\aasim\\anaconda3\\lib\\site-packages (from python-docx) (4.6.3)\n",
      "Building wheels for collected packages: python-docx\n",
      "  Building wheel for python-docx (setup.py): started\n",
      "  Building wheel for python-docx (setup.py): finished with status 'done'\n",
      "  Created wheel for python-docx: filename=python_docx-0.8.11-py3-none-any.whl size=184600 sha256=49ac1fb2240145c294a71f4b570759af5c1eb238ef2b7b28a6d0f207d2a25ad3\n",
      "  Stored in directory: c:\\users\\aasim\\appdata\\local\\pip\\cache\\wheels\\32\\b8\\b2\\c4c2b95765e615fe139b0b17b5ea7c0e1b6519b0a9ec8fb34d\n",
      "Successfully built python-docx\n",
      "Installing collected packages: python-docx\n",
      "Successfully installed python-docx-0.8.11\n"
     ]
    }
   ],
   "source": [
    "def create_word_document(strings_list, output_file):\n",
    "    document = Document()\n",
    "\n",
    "    for string in strings_list:\n",
    "        document.add_paragraph(string)\n",
    "\n",
    "    document.save(output_file)\n",
    "\n",
    "\n",
    "output_file_path = 'generated_emails.docx'\n",
    "\n",
    "create_word_document(emails, output_file_path)\n",
    "\n"
   ]
  },
  {
   "cell_type": "code",
   "execution_count": null,
   "id": "ecc1f3cb",
   "metadata": {},
   "outputs": [],
   "source": []
  }
 ],
 "metadata": {
  "kernelspec": {
   "display_name": "Python 3",
   "language": "python",
   "name": "python3"
  },
  "language_info": {
   "codemirror_mode": {
    "name": "ipython",
    "version": 3
   },
   "file_extension": ".py",
   "mimetype": "text/x-python",
   "name": "python",
   "nbconvert_exporter": "python",
   "pygments_lexer": "ipython3",
   "version": "3.8.8"
  }
 },
 "nbformat": 4,
 "nbformat_minor": 5
}
