{
 "cells": [
  {
   "cell_type": "markdown",
   "id": "5d78cbab",
   "metadata": {},
   "source": [
    "### This Notebook creates AI generated Emails to pitch your content marketing services to potential clients."
   ]
  },
  {
   "cell_type": "code",
   "execution_count": null,
   "id": "a9f38d66",
   "metadata": {
    "scrolled": true
   },
   "outputs": [],
   "source": [
    "#Install OpenAi and python-docx library packages.\n",
    "!pip install openai\n",
    "!pip install python-docx\n"
   ]
  },
  {
   "cell_type": "code",
   "execution_count": null,
   "id": "82f1a68a",
   "metadata": {
    "scrolled": true
   },
   "outputs": [],
   "source": [
    "#Imports\n",
    "import openai\n",
    "import csv\n",
    "from docx import Document\n",
    "#Add your openAI Key here. You can generate your key by signing up https://openai.com/\n",
    "openai.api_key  = <YOUR_OPENAI_KEY>"
   ]
  },
  {
   "cell_type": "markdown",
   "id": "b59d796a",
   "metadata": {},
   "source": [
    "### Setup your Model Configurations"
   ]
  },
  {
   "cell_type": "code",
   "execution_count": null,
   "id": "48833a8c",
   "metadata": {},
   "outputs": [],
   "source": [
    "#Get_Completion function setups your configuration for OpenAI model. \n",
    "#Here I am using gpt-3.5-turbo but you can also use model of your choice.\n",
    "def get_completion(prompt, model=\"gpt-3.5-turbo\",temperature=0):\n",
    "    messages = [{\"role\": \"user\", \"content\": prompt}]\n",
    "    response = openai.ChatCompletion.create(\n",
    "        model=model,\n",
    "        messages=messages,\n",
    "        temperature=temperature,\n",
    "        max_tokens = 1024 #You can set according to your needs.\n",
    "    )\n",
    "    return response.choices[0].message[\"content\"]"
   ]
  },
  {
   "cell_type": "markdown",
   "id": "23b92bee",
   "metadata": {},
   "source": [
    "### Load CSV files containing your potential clients information file. \n",
    "#### I am using only three fields, Name, Type, Info for each business but you can tweak upto your needs. \n",
    "### NB! Remember to tweak your prompt too. "
   ]
  },
  {
   "cell_type": "code",
   "execution_count": null,
   "id": "13003229",
   "metadata": {
    "scrolled": false
   },
   "outputs": [],
   "source": [
    "def load_business_data(csv_file):\n",
    "    business_list = []\n",
    "    with open(csv_file, newline='') as file:\n",
    "        reader = csv.DictReader(file)\n",
    "        for row in reader:\n",
    "            business_info = f\"\"\"name: {row['name']},type: {row['type']},info: {row['info']}\"\"\"\n",
    "            business_list.append(business_info)\n",
    "\n",
    "    return business_list\n",
    "\n",
    "csv_file_path = 'dummy_businesses.csv'\n",
    "business_list = load_business_data(csv_file_path)\n",
    "\n",
    "for business in business_list:\n",
    "    print(business)\n",
    "\n",
    "\n"
   ]
  },
  {
   "cell_type": "markdown",
   "id": "ccf1d742",
   "metadata": {},
   "source": [
    "### This prompt here generates an email based on given information. Feel free to tweak it according your needs"
   ]
  },
  {
   "cell_type": "code",
   "execution_count": null,
   "id": "a2012015",
   "metadata": {},
   "outputs": [],
   "source": [
    "emails = []\n",
    "for business in business_list:\n",
    "\n",
    "    prompt = f\"\"\"\n",
    "    You are a sales pitching AI assistant for a business who offers content creation services to businesses.\n",
    "    Your task is to extract the nature of business from name, type, info from given business information and create an email to pitch the content creation services to that business\n",
    "    Given the business details delimited by ```, \\\n",
    "    Generate an email to pitch why they need content to market their products in bullet points and then offer how you can help them with that.\n",
    "    Start the email with Dear \"business name\".\n",
    "    Write in a detailed, captivating and professional tone.\n",
    "    Your name is Wolfsbane.\n",
    "    The maximum words of email should be 450.\n",
    "    Sign the email as `Wolf Marketing Services`.\n",
    "    Business information: ```{business}```\n",
    "    \"\"\"\n",
    "    response = get_completion(prompt,temperature=0.3)\n",
    "    emails.append(response)\n",
    "    print(response)"
   ]
  },
  {
   "cell_type": "markdown",
   "id": "d586846d",
   "metadata": {},
   "source": [
    "### Create Docs file to use it in future."
   ]
  },
  {
   "cell_type": "code",
   "execution_count": null,
   "id": "daaccf7c",
   "metadata": {},
   "outputs": [],
   "source": [
    "def create_word_document(strings_list, output_file):\n",
    "    document = Document()\n",
    "\n",
    "    for string in strings_list:\n",
    "        document.add_paragraph(string)\n",
    "\n",
    "    document.save(output_file)\n",
    "\n",
    "\n",
    "output_file_path = 'generated_emails.docx'\n",
    "\n",
    "create_word_document(emails, output_file_path)\n",
    "\n"
   ]
  },
  {
   "cell_type": "code",
   "execution_count": null,
   "id": "10f86a17",
   "metadata": {},
   "outputs": [],
   "source": []
  }
 ],
 "metadata": {
  "kernelspec": {
   "display_name": "Python 3",
   "language": "python",
   "name": "python3"
  },
  "language_info": {
   "codemirror_mode": {
    "name": "ipython",
    "version": 3
   },
   "file_extension": ".py",
   "mimetype": "text/x-python",
   "name": "python",
   "nbconvert_exporter": "python",
   "pygments_lexer": "ipython3",
   "version": "3.8.8"
  }
 },
 "nbformat": 4,
 "nbformat_minor": 5
}
